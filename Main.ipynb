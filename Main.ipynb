{
  "nbformat": 4,
  "nbformat_minor": 0,
  "metadata": {
    "colab": {
      "provenance": [],
      "authorship_tag": "ABX9TyPuJjcUrJVdOcIf9qozooqt",
      "include_colab_link": true
    },
    "kernelspec": {
      "name": "python3",
      "display_name": "Python 3"
    },
    "language_info": {
      "name": "python"
    }
  },
  "cells": [
    {
      "cell_type": "markdown",
      "metadata": {
        "id": "view-in-github",
        "colab_type": "text"
      },
      "source": [
        "<a href=\"https://colab.research.google.com/github/Tegarr123/Sebelas-Maret-Statistics-Data-Science/blob/main/Main.ipynb\" target=\"_parent\"><img src=\"https://colab.research.google.com/assets/colab-badge.svg\" alt=\"Open In Colab\"/></a>"
      ]
    },
    {
      "cell_type": "code",
      "execution_count": null,
      "metadata": {
        "colab": {
          "base_uri": "https://localhost:8080/"
        },
        "id": "CsZAJ8pkpe6H",
        "outputId": "6f632514-30f7-4736-cc63-a93d8cc7ef62"
      },
      "outputs": [
        {
          "output_type": "stream",
          "name": "stdout",
          "text": [
            "mkdir: cannot create directory ‘/root/.kaggle’: File exists\n"
          ]
        }
      ],
      "source": [
        "import requests\n",
        "!mkdir ~/.kaggle\n",
        "with open('kaggle.json', 'wb') as cred:\n",
        "  url = 'https://raw.githubusercontent.com/Tegarr123/Sebelas-Maret-Statistics-Data-Science/main/kaggle.json'\n",
        "  response = requests.get(url)\n",
        "  cred.write(response.content)\n",
        "!mv kaggle.json ~/.kaggle/\n",
        "!chmod 600 ~/.kaggle/kaggle.json\n",
        "!kaggle competitions download -c sebelas-maret-statistics-data-science-competition\n",
        "!unzip sebelas-maret-statistics-data-science-competition"
      ]
    },
    {
      "cell_type": "code",
      "source": [
        "import pandas as pd\n",
        "\n",
        "train_set = pd.read_csv(\"Train Set.csv\", header=0, encoding='unicode_escape', delimiter=';')\n",
        "test_set = pd.read_csv(\"Test Set.csv\", header = 0, encoding='unicode_escape', delimiter=';')\n",
        "submission = pd.read_csv(\"Submission.csv\", header=0, encoding='unicode_escape', delimiter=';')\n"
      ],
      "metadata": {
        "id": "GrIrGbGqqqPH"
      },
      "execution_count": null,
      "outputs": []
    },
    {
      "cell_type": "code",
      "source": [
        "!rm -r Sebelas-Maret-Statistics-Data-Science"
      ],
      "metadata": {
        "id": "s_1U2LycdiIP"
      },
      "execution_count": 64,
      "outputs": []
    },
    {
      "cell_type": "code",
      "source": [],
      "metadata": {
        "id": "2K8_7b3Cdy7-"
      },
      "execution_count": null,
      "outputs": []
    },
    {
      "cell_type": "code",
      "source": [
        "!git clone -o ssds https://github.com/Tegarr123/Sebelas-Maret-Statistics-Data-Science.git\n"
      ],
      "metadata": {
        "colab": {
          "base_uri": "https://localhost:8080/"
        },
        "id": "dHBex1GDvpMg",
        "outputId": "ce08353c-2143-4063-df8e-d0e97f0b923f"
      },
      "execution_count": 65,
      "outputs": [
        {
          "output_type": "stream",
          "name": "stdout",
          "text": [
            "Cloning into 'Sebelas-Maret-Statistics-Data-Science'...\n",
            "remote: Enumerating objects: 9, done.\u001b[K\n",
            "remote: Counting objects: 100% (9/9), done.\u001b[K\n",
            "remote: Compressing objects: 100% (6/6), done.\u001b[K\n",
            "remote: Total 9 (delta 0), reused 3 (delta 0), pack-reused 0 (from 0)\u001b[K\n",
            "Receiving objects: 100% (9/9), done.\n"
          ]
        }
      ]
    },
    {
      "cell_type": "code",
      "source": [
        "!mv Sebelas-Maret-Statistics-Data-Science/.git ."
      ],
      "metadata": {
        "id": "tac15ijCP3NY"
      },
      "execution_count": 70,
      "outputs": []
    },
    {
      "cell_type": "code",
      "source": [
        "!git status"
      ],
      "metadata": {
        "colab": {
          "base_uri": "https://localhost:8080/"
        },
        "id": "tx3Wn9bfeHtq",
        "outputId": "54a7a5cd-46c3-40d1-8a23-97b26b1f99d0"
      },
      "execution_count": 71,
      "outputs": [
        {
          "output_type": "stream",
          "name": "stdout",
          "text": [
            "On branch main\n",
            "Your branch is up to date with 'ssds/main'.\n",
            "\n",
            "Untracked files:\n",
            "  (use \"git add <file>...\" to include in what will be committed)\n",
            "\t\u001b[31m.config/\u001b[m\n",
            "\t\u001b[31mSubmission.csv\u001b[m\n",
            "\t\u001b[31mTest Set.csv\u001b[m\n",
            "\t\u001b[31mTrain Set.csv\u001b[m\n",
            "\t\u001b[31msample_data/\u001b[m\n",
            "\t\u001b[31msebelas-maret-statistics-data-science-competition.zip\u001b[m\n",
            "\n",
            "nothing added to commit but untracked files present (use \"git add\" to track)\n"
          ]
        }
      ]
    },
    {
      "cell_type": "code",
      "source": [
        "!git add helper.py\n",
        "!git commit -m 'add helper.py'"
      ],
      "metadata": {
        "colab": {
          "base_uri": "https://localhost:8080/"
        },
        "id": "PIM3ry-Peplq",
        "outputId": "9f64a56a-21b8-46c3-c163-99f6f6423c22"
      },
      "execution_count": 72,
      "outputs": [
        {
          "output_type": "stream",
          "name": "stdout",
          "text": [
            "[main b6b4e7a] add helper.py\n",
            " 1 file changed, 1 insertion(+)\n"
          ]
        }
      ]
    },
    {
      "cell_type": "code",
      "source": [
        "!git push ssds main"
      ],
      "metadata": {
        "colab": {
          "base_uri": "https://localhost:8080/"
        },
        "id": "bIMdkPize4J4",
        "outputId": "31243551-d651-4787-c3a6-e9e41c0a1026"
      },
      "execution_count": 76,
      "outputs": [
        {
          "output_type": "stream",
          "name": "stdout",
          "text": [
            "fatal: could not read Username for 'https://github.com': No such device or address\n"
          ]
        }
      ]
    },
    {
      "cell_type": "code",
      "source": [
        "!git add helper.py kaggle.json\n",
        "!git commit -m 'first update'\n"
      ],
      "metadata": {
        "colab": {
          "base_uri": "https://localhost:8080/"
        },
        "id": "RGIsDanfWtZt",
        "outputId": "0c5d40f2-7c08-4eec-8869-feaae6671b00"
      },
      "execution_count": 78,
      "outputs": [
        {
          "output_type": "stream",
          "name": "stdout",
          "text": [
            "On branch main\n",
            "Your branch is ahead of 'ssds/main' by 1 commit.\n",
            "  (use \"git push\" to publish your local commits)\n",
            "\n",
            "Untracked files:\n",
            "  (use \"git add <file>...\" to include in what will be committed)\n",
            "\t\u001b[31m.config/\u001b[m\n",
            "\t\u001b[31mSubmission.csv\u001b[m\n",
            "\t\u001b[31mTest Set.csv\u001b[m\n",
            "\t\u001b[31mTrain Set.csv\u001b[m\n",
            "\t\u001b[31msample_data/\u001b[m\n",
            "\t\u001b[31msebelas-maret-statistics-data-science-competition.zip\u001b[m\n",
            "\n",
            "nothing added to commit but untracked files present (use \"git add\" to track)\n",
            "error: src refspec master does not match any\n",
            "\u001b[31merror: failed to push some refs to 'https://github.com/Tegarr123/Sebelas-Maret-Statistics-Data-Science.git'\n",
            "\u001b[m"
          ]
        }
      ]
    },
    {
      "cell_type": "code",
      "source": [
        "!ssh-keygen -t ed25519 -C \"fadhino987@gmail.com\""
      ],
      "metadata": {
        "colab": {
          "base_uri": "https://localhost:8080/"
        },
        "id": "hXzu4D3irG8N",
        "outputId": "a3833eb9-9e40-4d93-e4c1-adfb58a3036e"
      },
      "execution_count": 81,
      "outputs": [
        {
          "output_type": "stream",
          "name": "stdout",
          "text": [
            "Generating public/private ed25519 key pair.\n",
            "Enter file in which to save the key (/root/.ssh/id_ed25519): \n",
            "Enter passphrase (empty for no passphrase): 20My2003\n",
            "Enter same passphrase again: 20My2003\n",
            "Saving key \"/root/.ssh/id_ed25519\" failed: Not a directory\n"
          ]
        }
      ]
    },
    {
      "cell_type": "code",
      "source": [],
      "metadata": {
        "id": "NqJeQkIyrrDU"
      },
      "execution_count": null,
      "outputs": []
    },
    {
      "cell_type": "code",
      "source": [
        "!git push ssds main:main"
      ],
      "metadata": {
        "colab": {
          "base_uri": "https://localhost:8080/"
        },
        "id": "7wGJ1Y34qb8t",
        "outputId": "1b3afada-9616-4821-b03b-917710bedd3a"
      },
      "execution_count": 80,
      "outputs": [
        {
          "output_type": "stream",
          "name": "stdout",
          "text": [
            "fatal: could not read Username for 'https://github.com': No such device or address\n"
          ]
        }
      ]
    },
    {
      "cell_type": "code",
      "source": [
        "!git config --global user.email \"fadhino987@gmail.com\"\n",
        "!git config --global user.name \"fadhino\""
      ],
      "metadata": {
        "id": "UNJ87cupY8jC"
      },
      "execution_count": null,
      "outputs": []
    },
    {
      "cell_type": "code",
      "source": [
        "!git remote add origin https://github.com/Tegarr123/Sebelas-Maret-Statistics-Data-Science.git"
      ],
      "metadata": {
        "id": "-79Zmx-pZMlI"
      },
      "execution_count": 77,
      "outputs": []
    }
  ]
}